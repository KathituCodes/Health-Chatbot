{
  "cells": [
    {
      "cell_type": "markdown",
      "metadata": {
        "id": "view-in-github",
        "colab_type": "text"
      },
      "source": [
        "<a href=\"https://colab.research.google.com/github/KathituCodes/Health-Chatbot/blob/main/Health_Assistant_Chatbot.ipynb\" target=\"_parent\"><img src=\"https://colab.research.google.com/assets/colab-badge.svg\" alt=\"Open In Colab\"/></a>"
      ]
    },
    {
      "cell_type": "markdown",
      "metadata": {
        "id": "s4eT0_W_zoeP"
      },
      "source": [
        "# **Heart Health Assistant**\n",
        "## Features & Functionality\n",
        "\n",
        "1. **Integration with ML Model:**\n",
        "  - Uses the [Heart Disease dataset](https://archive.ics.uci.edu/ml/machine-learning-databases/heart-disease/processed.cleveland.data) to train a Random Forest Classifier\n",
        "  - Provides real-time risk assessment based on user inputs\n",
        "  - Scales input data appropriately\n",
        "\n",
        "\n",
        "2. **UI:**\n",
        "  - Tabbed interface separating chat and risk assessment\n",
        "  - Organized input fields in columns\n",
        "  - Visual feedback for risk levels\n",
        "  - Metric display for risk percentage\n",
        "\n",
        "\n",
        "3. **Improved Content:**\n",
        "  - Questions and answers focused on heart health\n",
        "  - More detailed responses with structured information\n",
        "  - Integration of insights from our correlation analysis\n",
        "\n",
        "\n",
        "4. Additional Features:\n",
        "  - Caching for model training to improve performance\n",
        "  - Comprehensive risk assessment form\n",
        "  - Detailed explanations of results\n",
        "  - Visual indicators for different risk levels\n",
        "\n",
        "### Important notes:\n",
        "\n",
        "We'll need to authorize [ngrok](https://dashboard.ngrok.com/signup) when running in Colab. Follow the instructions that appear when running the code.\n",
        "The public URL will change each time we run the notebook.\n",
        "If you make changes to the app, we'll need to restart the runtime and run all"
      ]
    },
    {
      "cell_type": "markdown",
      "metadata": {
        "id": "xSmB18QFjJIl"
      },
      "source": [
        "## **Installation**\n",
        "This step involves installing the necessary libraries (streamlit, pyngrok, and streamlit-option-menu), which are crucial for building and deploying the web app.\n",
        "\n",
        "These commands install the three essential libraries:\n",
        "\n",
        "1. Streamlit for creating the web interface,\n",
        "2. Pyngrok for making the local app available online (so others can access it), and\n",
        "3. Streamlit-option-menu for adding navigation between different sections of the 3.app.\n"
      ]
    },
    {
      "cell_type": "code",
      "execution_count": 1,
      "metadata": {
        "colab": {
          "base_uri": "https://localhost:8080/"
        },
        "id": "4fuDunhRhHk8",
        "outputId": "495aee6d-f369-4097-d08e-8861a1a951a4"
      },
      "outputs": [
        {
          "output_type": "stream",
          "name": "stdout",
          "text": [
            "Collecting streamlit\n",
            "  Downloading streamlit-1.46.1-py3-none-any.whl.metadata (9.0 kB)\n",
            "Requirement already satisfied: altair<6,>=4.0 in /usr/local/lib/python3.11/dist-packages (from streamlit) (5.5.0)\n",
            "Requirement already satisfied: blinker<2,>=1.5.0 in /usr/local/lib/python3.11/dist-packages (from streamlit) (1.9.0)\n",
            "Requirement already satisfied: cachetools<7,>=4.0 in /usr/local/lib/python3.11/dist-packages (from streamlit) (5.5.2)\n",
            "Requirement already satisfied: click<9,>=7.0 in /usr/local/lib/python3.11/dist-packages (from streamlit) (8.2.1)\n",
            "Requirement already satisfied: numpy<3,>=1.23 in /usr/local/lib/python3.11/dist-packages (from streamlit) (2.0.2)\n",
            "Requirement already satisfied: packaging<26,>=20 in /usr/local/lib/python3.11/dist-packages (from streamlit) (24.2)\n",
            "Requirement already satisfied: pandas<3,>=1.4.0 in /usr/local/lib/python3.11/dist-packages (from streamlit) (2.2.2)\n",
            "Requirement already satisfied: pillow<12,>=7.1.0 in /usr/local/lib/python3.11/dist-packages (from streamlit) (11.2.1)\n",
            "Requirement already satisfied: protobuf<7,>=3.20 in /usr/local/lib/python3.11/dist-packages (from streamlit) (5.29.5)\n",
            "Requirement already satisfied: pyarrow>=7.0 in /usr/local/lib/python3.11/dist-packages (from streamlit) (18.1.0)\n",
            "Requirement already satisfied: requests<3,>=2.27 in /usr/local/lib/python3.11/dist-packages (from streamlit) (2.32.3)\n",
            "Requirement already satisfied: tenacity<10,>=8.1.0 in /usr/local/lib/python3.11/dist-packages (from streamlit) (8.5.0)\n",
            "Requirement already satisfied: toml<2,>=0.10.1 in /usr/local/lib/python3.11/dist-packages (from streamlit) (0.10.2)\n",
            "Requirement already satisfied: typing-extensions<5,>=4.4.0 in /usr/local/lib/python3.11/dist-packages (from streamlit) (4.14.1)\n",
            "Collecting watchdog<7,>=2.1.5 (from streamlit)\n",
            "  Downloading watchdog-6.0.0-py3-none-manylinux2014_x86_64.whl.metadata (44 kB)\n",
            "\u001b[2K     \u001b[90m━━━━━━━━━━━━━━━━━━━━━━━━━━━━━━━━━━━━━━━━\u001b[0m \u001b[32m44.3/44.3 kB\u001b[0m \u001b[31m1.5 MB/s\u001b[0m eta \u001b[36m0:00:00\u001b[0m\n",
            "\u001b[?25hRequirement already satisfied: gitpython!=3.1.19,<4,>=3.0.7 in /usr/local/lib/python3.11/dist-packages (from streamlit) (3.1.44)\n",
            "Collecting pydeck<1,>=0.8.0b4 (from streamlit)\n",
            "  Downloading pydeck-0.9.1-py2.py3-none-any.whl.metadata (4.1 kB)\n",
            "Requirement already satisfied: tornado!=6.5.0,<7,>=6.0.3 in /usr/local/lib/python3.11/dist-packages (from streamlit) (6.4.2)\n",
            "Requirement already satisfied: jinja2 in /usr/local/lib/python3.11/dist-packages (from altair<6,>=4.0->streamlit) (3.1.6)\n",
            "Requirement already satisfied: jsonschema>=3.0 in /usr/local/lib/python3.11/dist-packages (from altair<6,>=4.0->streamlit) (4.24.0)\n",
            "Requirement already satisfied: narwhals>=1.14.2 in /usr/local/lib/python3.11/dist-packages (from altair<6,>=4.0->streamlit) (1.46.0)\n",
            "Requirement already satisfied: gitdb<5,>=4.0.1 in /usr/local/lib/python3.11/dist-packages (from gitpython!=3.1.19,<4,>=3.0.7->streamlit) (4.0.12)\n",
            "Requirement already satisfied: python-dateutil>=2.8.2 in /usr/local/lib/python3.11/dist-packages (from pandas<3,>=1.4.0->streamlit) (2.9.0.post0)\n",
            "Requirement already satisfied: pytz>=2020.1 in /usr/local/lib/python3.11/dist-packages (from pandas<3,>=1.4.0->streamlit) (2025.2)\n",
            "Requirement already satisfied: tzdata>=2022.7 in /usr/local/lib/python3.11/dist-packages (from pandas<3,>=1.4.0->streamlit) (2025.2)\n",
            "Requirement already satisfied: charset-normalizer<4,>=2 in /usr/local/lib/python3.11/dist-packages (from requests<3,>=2.27->streamlit) (3.4.2)\n",
            "Requirement already satisfied: idna<4,>=2.5 in /usr/local/lib/python3.11/dist-packages (from requests<3,>=2.27->streamlit) (3.10)\n",
            "Requirement already satisfied: urllib3<3,>=1.21.1 in /usr/local/lib/python3.11/dist-packages (from requests<3,>=2.27->streamlit) (2.4.0)\n",
            "Requirement already satisfied: certifi>=2017.4.17 in /usr/local/lib/python3.11/dist-packages (from requests<3,>=2.27->streamlit) (2025.7.9)\n",
            "Requirement already satisfied: smmap<6,>=3.0.1 in /usr/local/lib/python3.11/dist-packages (from gitdb<5,>=4.0.1->gitpython!=3.1.19,<4,>=3.0.7->streamlit) (5.0.2)\n",
            "Requirement already satisfied: MarkupSafe>=2.0 in /usr/local/lib/python3.11/dist-packages (from jinja2->altair<6,>=4.0->streamlit) (3.0.2)\n",
            "Requirement already satisfied: attrs>=22.2.0 in /usr/local/lib/python3.11/dist-packages (from jsonschema>=3.0->altair<6,>=4.0->streamlit) (25.3.0)\n",
            "Requirement already satisfied: jsonschema-specifications>=2023.03.6 in /usr/local/lib/python3.11/dist-packages (from jsonschema>=3.0->altair<6,>=4.0->streamlit) (2025.4.1)\n",
            "Requirement already satisfied: referencing>=0.28.4 in /usr/local/lib/python3.11/dist-packages (from jsonschema>=3.0->altair<6,>=4.0->streamlit) (0.36.2)\n",
            "Requirement already satisfied: rpds-py>=0.7.1 in /usr/local/lib/python3.11/dist-packages (from jsonschema>=3.0->altair<6,>=4.0->streamlit) (0.26.0)\n",
            "Requirement already satisfied: six>=1.5 in /usr/local/lib/python3.11/dist-packages (from python-dateutil>=2.8.2->pandas<3,>=1.4.0->streamlit) (1.17.0)\n",
            "Downloading streamlit-1.46.1-py3-none-any.whl (10.1 MB)\n",
            "\u001b[2K   \u001b[90m━━━━━━━━━━━━━━━━━━━━━━━━━━━━━━━━━━━━━━━━\u001b[0m \u001b[32m10.1/10.1 MB\u001b[0m \u001b[31m60.8 MB/s\u001b[0m eta \u001b[36m0:00:00\u001b[0m\n",
            "\u001b[?25hDownloading pydeck-0.9.1-py2.py3-none-any.whl (6.9 MB)\n",
            "\u001b[2K   \u001b[90m━━━━━━━━━━━━━━━━━━━━━━━━━━━━━━━━━━━━━━━━\u001b[0m \u001b[32m6.9/6.9 MB\u001b[0m \u001b[31m89.9 MB/s\u001b[0m eta \u001b[36m0:00:00\u001b[0m\n",
            "\u001b[?25hDownloading watchdog-6.0.0-py3-none-manylinux2014_x86_64.whl (79 kB)\n",
            "\u001b[2K   \u001b[90m━━━━━━━━━━━━━━━━━━━━━━━━━━━━━━━━━━━━━━━━\u001b[0m \u001b[32m79.1/79.1 kB\u001b[0m \u001b[31m5.8 MB/s\u001b[0m eta \u001b[36m0:00:00\u001b[0m\n",
            "\u001b[?25hInstalling collected packages: watchdog, pydeck, streamlit\n",
            "Successfully installed pydeck-0.9.1 streamlit-1.46.1 watchdog-6.0.0\n",
            "Collecting pyngrok\n",
            "  Downloading pyngrok-7.2.12-py3-none-any.whl.metadata (9.4 kB)\n",
            "Requirement already satisfied: PyYAML>=5.1 in /usr/local/lib/python3.11/dist-packages (from pyngrok) (6.0.2)\n",
            "Downloading pyngrok-7.2.12-py3-none-any.whl (26 kB)\n",
            "Installing collected packages: pyngrok\n",
            "Successfully installed pyngrok-7.2.12\n",
            "Collecting streamlit-option-menu\n",
            "  Downloading streamlit_option_menu-0.4.0-py3-none-any.whl.metadata (2.5 kB)\n",
            "Requirement already satisfied: streamlit>=1.36 in /usr/local/lib/python3.11/dist-packages (from streamlit-option-menu) (1.46.1)\n",
            "Requirement already satisfied: altair<6,>=4.0 in /usr/local/lib/python3.11/dist-packages (from streamlit>=1.36->streamlit-option-menu) (5.5.0)\n",
            "Requirement already satisfied: blinker<2,>=1.5.0 in /usr/local/lib/python3.11/dist-packages (from streamlit>=1.36->streamlit-option-menu) (1.9.0)\n",
            "Requirement already satisfied: cachetools<7,>=4.0 in /usr/local/lib/python3.11/dist-packages (from streamlit>=1.36->streamlit-option-menu) (5.5.2)\n",
            "Requirement already satisfied: click<9,>=7.0 in /usr/local/lib/python3.11/dist-packages (from streamlit>=1.36->streamlit-option-menu) (8.2.1)\n",
            "Requirement already satisfied: numpy<3,>=1.23 in /usr/local/lib/python3.11/dist-packages (from streamlit>=1.36->streamlit-option-menu) (2.0.2)\n",
            "Requirement already satisfied: packaging<26,>=20 in /usr/local/lib/python3.11/dist-packages (from streamlit>=1.36->streamlit-option-menu) (24.2)\n",
            "Requirement already satisfied: pandas<3,>=1.4.0 in /usr/local/lib/python3.11/dist-packages (from streamlit>=1.36->streamlit-option-menu) (2.2.2)\n",
            "Requirement already satisfied: pillow<12,>=7.1.0 in /usr/local/lib/python3.11/dist-packages (from streamlit>=1.36->streamlit-option-menu) (11.2.1)\n",
            "Requirement already satisfied: protobuf<7,>=3.20 in /usr/local/lib/python3.11/dist-packages (from streamlit>=1.36->streamlit-option-menu) (5.29.5)\n",
            "Requirement already satisfied: pyarrow>=7.0 in /usr/local/lib/python3.11/dist-packages (from streamlit>=1.36->streamlit-option-menu) (18.1.0)\n",
            "Requirement already satisfied: requests<3,>=2.27 in /usr/local/lib/python3.11/dist-packages (from streamlit>=1.36->streamlit-option-menu) (2.32.3)\n",
            "Requirement already satisfied: tenacity<10,>=8.1.0 in /usr/local/lib/python3.11/dist-packages (from streamlit>=1.36->streamlit-option-menu) (8.5.0)\n",
            "Requirement already satisfied: toml<2,>=0.10.1 in /usr/local/lib/python3.11/dist-packages (from streamlit>=1.36->streamlit-option-menu) (0.10.2)\n",
            "Requirement already satisfied: typing-extensions<5,>=4.4.0 in /usr/local/lib/python3.11/dist-packages (from streamlit>=1.36->streamlit-option-menu) (4.14.1)\n",
            "Requirement already satisfied: watchdog<7,>=2.1.5 in /usr/local/lib/python3.11/dist-packages (from streamlit>=1.36->streamlit-option-menu) (6.0.0)\n",
            "Requirement already satisfied: gitpython!=3.1.19,<4,>=3.0.7 in /usr/local/lib/python3.11/dist-packages (from streamlit>=1.36->streamlit-option-menu) (3.1.44)\n",
            "Requirement already satisfied: pydeck<1,>=0.8.0b4 in /usr/local/lib/python3.11/dist-packages (from streamlit>=1.36->streamlit-option-menu) (0.9.1)\n",
            "Requirement already satisfied: tornado!=6.5.0,<7,>=6.0.3 in /usr/local/lib/python3.11/dist-packages (from streamlit>=1.36->streamlit-option-menu) (6.4.2)\n",
            "Requirement already satisfied: jinja2 in /usr/local/lib/python3.11/dist-packages (from altair<6,>=4.0->streamlit>=1.36->streamlit-option-menu) (3.1.6)\n",
            "Requirement already satisfied: jsonschema>=3.0 in /usr/local/lib/python3.11/dist-packages (from altair<6,>=4.0->streamlit>=1.36->streamlit-option-menu) (4.24.0)\n",
            "Requirement already satisfied: narwhals>=1.14.2 in /usr/local/lib/python3.11/dist-packages (from altair<6,>=4.0->streamlit>=1.36->streamlit-option-menu) (1.46.0)\n",
            "Requirement already satisfied: gitdb<5,>=4.0.1 in /usr/local/lib/python3.11/dist-packages (from gitpython!=3.1.19,<4,>=3.0.7->streamlit>=1.36->streamlit-option-menu) (4.0.12)\n",
            "Requirement already satisfied: python-dateutil>=2.8.2 in /usr/local/lib/python3.11/dist-packages (from pandas<3,>=1.4.0->streamlit>=1.36->streamlit-option-menu) (2.9.0.post0)\n",
            "Requirement already satisfied: pytz>=2020.1 in /usr/local/lib/python3.11/dist-packages (from pandas<3,>=1.4.0->streamlit>=1.36->streamlit-option-menu) (2025.2)\n",
            "Requirement already satisfied: tzdata>=2022.7 in /usr/local/lib/python3.11/dist-packages (from pandas<3,>=1.4.0->streamlit>=1.36->streamlit-option-menu) (2025.2)\n",
            "Requirement already satisfied: charset-normalizer<4,>=2 in /usr/local/lib/python3.11/dist-packages (from requests<3,>=2.27->streamlit>=1.36->streamlit-option-menu) (3.4.2)\n",
            "Requirement already satisfied: idna<4,>=2.5 in /usr/local/lib/python3.11/dist-packages (from requests<3,>=2.27->streamlit>=1.36->streamlit-option-menu) (3.10)\n",
            "Requirement already satisfied: urllib3<3,>=1.21.1 in /usr/local/lib/python3.11/dist-packages (from requests<3,>=2.27->streamlit>=1.36->streamlit-option-menu) (2.4.0)\n",
            "Requirement already satisfied: certifi>=2017.4.17 in /usr/local/lib/python3.11/dist-packages (from requests<3,>=2.27->streamlit>=1.36->streamlit-option-menu) (2025.7.9)\n",
            "Requirement already satisfied: smmap<6,>=3.0.1 in /usr/local/lib/python3.11/dist-packages (from gitdb<5,>=4.0.1->gitpython!=3.1.19,<4,>=3.0.7->streamlit>=1.36->streamlit-option-menu) (5.0.2)\n",
            "Requirement already satisfied: MarkupSafe>=2.0 in /usr/local/lib/python3.11/dist-packages (from jinja2->altair<6,>=4.0->streamlit>=1.36->streamlit-option-menu) (3.0.2)\n",
            "Requirement already satisfied: attrs>=22.2.0 in /usr/local/lib/python3.11/dist-packages (from jsonschema>=3.0->altair<6,>=4.0->streamlit>=1.36->streamlit-option-menu) (25.3.0)\n",
            "Requirement already satisfied: jsonschema-specifications>=2023.03.6 in /usr/local/lib/python3.11/dist-packages (from jsonschema>=3.0->altair<6,>=4.0->streamlit>=1.36->streamlit-option-menu) (2025.4.1)\n",
            "Requirement already satisfied: referencing>=0.28.4 in /usr/local/lib/python3.11/dist-packages (from jsonschema>=3.0->altair<6,>=4.0->streamlit>=1.36->streamlit-option-menu) (0.36.2)\n",
            "Requirement already satisfied: rpds-py>=0.7.1 in /usr/local/lib/python3.11/dist-packages (from jsonschema>=3.0->altair<6,>=4.0->streamlit>=1.36->streamlit-option-menu) (0.26.0)\n",
            "Requirement already satisfied: six>=1.5 in /usr/local/lib/python3.11/dist-packages (from python-dateutil>=2.8.2->pandas<3,>=1.4.0->streamlit>=1.36->streamlit-option-menu) (1.17.0)\n",
            "Downloading streamlit_option_menu-0.4.0-py3-none-any.whl (829 kB)\n",
            "\u001b[2K   \u001b[90m━━━━━━━━━━━━━━━━━━━━━━━━━━━━━━━━━━━━━━━━\u001b[0m \u001b[32m829.3/829.3 kB\u001b[0m \u001b[31m11.0 MB/s\u001b[0m eta \u001b[36m0:00:00\u001b[0m\n",
            "\u001b[?25hInstalling collected packages: streamlit-option-menu\n",
            "Successfully installed streamlit-option-menu-0.4.0\n"
          ]
        }
      ],
      "source": [
        "# Installing the required packages\n",
        "!pip install streamlit           # Streamlit is a framework to create web apps for machine learning models\n",
        "!pip install pyngrok             # Pyngrok is used to expose the local Streamlit app to the web via a public URL\n",
        "!pip install streamlit-option-menu # Option menu for creating navigation in the app"
      ]
    },
    {
      "cell_type": "markdown",
      "metadata": {
        "id": "44EnlsZIkD30"
      },
      "source": [
        "## **App Code**\n",
        "\n",
        "Here, write the core logic of your Streamlit app. This involves loading data, training a machine learning model, and creating an interactive interface where users can ask questions or assess their heart disease risk."
      ]
    },
    {
      "cell_type": "code",
      "execution_count": 2,
      "metadata": {
        "colab": {
          "base_uri": "https://localhost:8080/"
        },
        "id": "JgMzTAtow-pq",
        "outputId": "be0fa784-d946-4398-e274-f82407ef87f9"
      },
      "outputs": [
        {
          "output_type": "stream",
          "name": "stdout",
          "text": [
            "Writing app.py\n"
          ]
        }
      ],
      "source": [
        "%%writefile app.py\n",
        "# Import necessary libraries\n",
        "import streamlit as st                     # Streamlit to build the app's interface\n",
        "import pandas as pd                        # Pandas for data handling\n",
        "import numpy as np                         # Numpy for numerical computations\n",
        "from sklearn.model_selection import train_test_split  # For splitting data into training and test sets\n",
        "from sklearn.preprocessing import StandardScaler      # For scaling numerical features\n",
        "from sklearn.ensemble import RandomForestClassifier   # Random Forest model for classification\n",
        "\n",
        "# Function to load the heart disease dataset\n",
        "def load_data():\n",
        "    url = \"https://archive.ics.uci.edu/ml/machine-learning-databases/heart-disease/processed.cleveland.data\"\n",
        "    column_names = [\"age\", \"sex\", \"cp\", \"trestbps\", \"chol\", \"fbs\", \"restecg\",\n",
        "                   \"thalach\", \"exang\", \"oldpeak\", \"slope\", \"ca\", \"thal\", \"target\"]\n",
        "    data = pd.read_csv(url, names=column_names)\n",
        "\n",
        "    # Replace '?' with NaN\n",
        "    data = data.replace('?', np.nan)\n",
        "\n",
        "    # Convert all columns to numeric\n",
        "    for column in data.columns:\n",
        "        data[column] = pd.to_numeric(data[column])\n",
        "\n",
        "    # Fill missing values with median for numeric columns\n",
        "    for column in data.columns:\n",
        "        data[column] = data[column].fillna(data[column].median())\n",
        "\n",
        "    return data\n",
        "\n",
        "# Function to train the Random Forest model\n",
        "def train_model(data):\n",
        "    X = data.drop('target', axis=1)       # Dropping the target column (dependent variable)\n",
        "    y = data['target'].apply(lambda x: 1 if x > 0 else 0)  # Converting the target to binary (1: heart disease, 0: no heart disease)\n",
        "\n",
        "    # Split the data into training and testing sets\n",
        "    X_train, X_test, y_train, y_test = train_test_split(X, y, test_size=0.2, random_state=42)\n",
        "\n",
        "    # Scaling the feature variables\n",
        "    scaler = StandardScaler()\n",
        "    X_train_scaled = scaler.fit_transform(X_train)\n",
        "\n",
        "    # Training a Random Forest classifier\n",
        "    model = RandomForestClassifier(n_estimators=100, random_state=42)\n",
        "    model.fit(X_train_scaled, y_train)\n",
        "\n",
        "    return model, scaler  # Return the trained model and the scaler for later use\n",
        "\n",
        "# Main function to define the Streamlit app layout\n",
        "def main():\n",
        "    # Set the app title and introductory text\n",
        "    st.title(\"Heart Health Assistant\")\n",
        "    st.write(\"Your interactive guide to heart health and risk assessment\")\n",
        "\n",
        "    # Load and train the model\n",
        "    @st.cache_resource\n",
        "    def load_trained_model():\n",
        "        data = load_data()\n",
        "        model, scaler = train_model(data)\n",
        "        return model, scaler, data\n",
        "\n",
        "    # Load the model, scaler, and data\n",
        "    model, scaler, data = load_trained_model()\n",
        "\n",
        "    # Create two tabs: Chat Assistant and Risk Assessment\n",
        "    tab1, tab2 = st.tabs([\"Chat Assistant\", \"Risk Assessment\"])\n",
        "\n",
        "    with tab1:\n",
        "        st.subheader(\"Ask me about heart health!\")\n",
        "        user_query = st.selectbox(\"Choose your question:\", [\"What is heart disease?\", \"What are the symptoms?\", \"How can I reduce my risk?\"])\n",
        "        if st.button(\"Get Answer\"):\n",
        "            if user_query == \"What is heart disease?\":\n",
        "                st.write(\"Heart disease refers to various conditions that affect the heart, such as coronary artery disease.\")\n",
        "            elif user_query == \"What are the symptoms?\":\n",
        "                st.write(\"Symptoms include chest pain, shortness of breath, and fatigue.\")\n",
        "            else:\n",
        "                st.write(\"To reduce your risk, maintain a healthy diet, exercise regularly, and avoid smoking.\")\n",
        "\n",
        "    with tab2:\n",
        "        st.subheader(\"Heart Disease Risk Assessment\")\n",
        "        st.write(\"Enter your health information for a risk assessment:\")\n",
        "\n",
        "        # Input fields for health details\n",
        "        age = st.number_input(\"Age\", 20, 100, 50)\n",
        "        sex = st.selectbox(\"Sex\", [\"Male\", \"Female\"])\n",
        "        cp = st.selectbox(\"Chest Pain Type\", [\"Typical Angina\", \"Atypical Angina\", \"Non-anginal Pain\", \"Asymptomatic\"])\n",
        "        trestbps = st.number_input(\"Resting Blood Pressure (mmHg)\", 90, 200, 120)\n",
        "        chol = st.number_input(\"Cholesterol (mg/dl)\", 100, 600, 200)\n",
        "\n",
        "        # Assess risk on button click\n",
        "        if st.button(\"Assess Risk\"):\n",
        "            input_data = np.array([[age, 1 if sex == \"Male\" else 0, {\"Typical Angina\": 0, \"Atypical Angina\": 1, \"Non-anginal Pain\": 2, \"Asymptomatic\": 3}[cp], trestbps, chol]])\n",
        "            scaled_data = scaler.transform(input_data)  # Scale the input data\n",
        "            prediction = model.predict(scaled_data)  # Get the model's prediction\n",
        "            st.write(\"The model predicts: \" + (\"Heart Disease\" if prediction == 1 else \"No Heart Disease\"))\n",
        "\n",
        "if __name__ == \"__main__\":\n",
        "    main()"
      ]
    },
    {
      "cell_type": "markdown",
      "metadata": {
        "id": "Iei4YsECx1cG"
      },
      "source": [
        "This script defines the logic of the app:\n",
        "\n",
        "- The ***Chat Assistant tab*** allows users to ask health-related questions, and the app responds with predefined answers.\n",
        "- The ***Risk Assessment tab*** accepts user inputs such as age, cholesterol levels, etc., and uses a Random Forest model to predict whether they might be at risk for heart disease."
      ]
    },
    {
      "cell_type": "markdown",
      "metadata": {
        "id": "-S6djihWkOrX"
      },
      "source": [
        "## **Run the Streamlit App**\n",
        "\n",
        "Once the app is written, we can run it locally and make it accessible on the web using Pyngrok."
      ]
    },
    {
      "cell_type": "code",
      "execution_count": 3,
      "metadata": {
        "colab": {
          "base_uri": "https://localhost:8080/"
        },
        "id": "byxQ-GXakTRY",
        "outputId": "1aa20d3e-8129-4629-9990-b63a573ed0ef"
      },
      "outputs": [
        {
          "output_type": "stream",
          "name": "stdout",
          "text": [
            "Authtoken saved to configuration file: /root/.config/ngrok/ngrok.yml\n",
            "NgrokTunnel: \"https://163f55324a2c.ngrok-free.app\" -> \"http://localhost:8501\"\n"
          ]
        }
      ],
      "source": [
        "from pyngrok import ngrok\n",
        "\n",
        "# Install Ngrok authtoken\n",
        "!ngrok authtoken 2nsOJTOt5ump7Vz8YhWmAVMCo9U_3FV6cMBUrkg8rGm3RyLQn\n",
        "\n",
        "# Run Streamlit app\n",
        "!streamlit run app.py &>/dev/null&\n",
        "\n",
        "# Create an Ngrok tunnel for port 8501 (Streamlit default port)\n",
        "public_url = ngrok.connect(8501, \"http\")\n",
        "\n",
        "# Print the public URL to access the app\n",
        "print(public_url)\n"
      ]
    },
    {
      "cell_type": "markdown",
      "metadata": {
        "id": "i9Erw48NyRKK"
      },
      "source": [
        "This command runs the Streamlit app locally (`streamlit run app.py`) and then\n",
        "\n",
        "uses localtunnel to create a public URL so others can access your app from the web. The `8501` is the default port for Streamlit apps, and the & allows the two commands to run simultaneously."
      ]
    }
  ],
  "metadata": {
    "colab": {
      "provenance": [],
      "include_colab_link": true
    },
    "kernelspec": {
      "display_name": "Python 3",
      "name": "python3"
    },
    "language_info": {
      "name": "python"
    }
  },
  "nbformat": 4,
  "nbformat_minor": 0
}